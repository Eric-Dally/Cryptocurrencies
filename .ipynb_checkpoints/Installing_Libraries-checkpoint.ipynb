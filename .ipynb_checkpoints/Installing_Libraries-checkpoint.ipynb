{
 "cells": [
  {
   "cell_type": "code",
   "execution_count": 1,
   "id": "7dbd2c34",
   "metadata": {},
   "outputs": [
    {
     "name": "stdout",
     "output_type": "stream",
     "text": [
      "Collecting package metadata (current_repodata.json): done\n",
      "Solving environment: done\n",
      "\n",
      "## Package Plan ##\n",
      "\n",
      "  environment location: /Users/ericdally/opt/anaconda3/envs/mlenv\n",
      "\n",
      "  added / updated specs:\n",
      "    - plotly\n",
      "\n",
      "\n",
      "The following packages will be downloaded:\n",
      "\n",
      "    package                    |            build\n",
      "    ---------------------------|-----------------\n",
      "    plotly-5.1.0               |     pyhd3eb1b0_0         2.7 MB\n",
      "    tenacity-6.3.1             |   py37hecd8cb5_0          36 KB\n",
      "    ------------------------------------------------------------\n",
      "                                           Total:         2.7 MB\n",
      "\n",
      "The following NEW packages will be INSTALLED:\n",
      "\n",
      "  plotly             pkgs/main/noarch::plotly-5.1.0-pyhd3eb1b0_0\n",
      "  tenacity           pkgs/main/osx-64::tenacity-6.3.1-py37hecd8cb5_0\n",
      "\n",
      "\n",
      "\n",
      "Downloading and Extracting Packages\n",
      "tenacity-6.3.1       | 36 KB     | ##################################### | 100% \n",
      "plotly-5.1.0         | 2.7 MB    | ##################################### | 100% \n",
      "Preparing transaction: done\n",
      "Verifying transaction: done\n",
      "Executing transaction: done\n",
      "\n",
      "Note: you may need to restart the kernel to use updated packages.\n"
     ]
    }
   ],
   "source": [
    "conda install plotly"
   ]
  },
  {
   "cell_type": "code",
   "execution_count": 2,
   "id": "9c0ce365",
   "metadata": {},
   "outputs": [
    {
     "name": "stdout",
     "output_type": "stream",
     "text": [
      "Collecting package metadata (current_repodata.json): done\n",
      "Solving environment: done\n",
      "\n",
      "## Package Plan ##\n",
      "\n",
      "  environment location: /Users/ericdally/opt/anaconda3/envs/mlenv\n",
      "\n",
      "  added / updated specs:\n",
      "    - hvplot\n",
      "\n",
      "\n",
      "The following packages will be downloaded:\n",
      "\n",
      "    package                    |            build\n",
      "    ---------------------------|-----------------\n",
      "    colorcet-2.0.6             |             py_0         1.5 MB  pyviz\n",
      "    holoviews-1.14.5           |             py_0         3.4 MB  pyviz\n",
      "    hvplot-0.7.3               |             py_0         2.9 MB  pyviz\n",
      "    markdown-3.3.4             |   py37hecd8cb5_0         127 KB\n",
      "    panel-0.12.1               |             py_0         9.8 MB  pyviz\n",
      "    param-1.11.1               |             py_0          86 KB  pyviz\n",
      "    pyct-0.4.8                 |             py_0           3 KB  pyviz\n",
      "    pyct-core-0.4.8            |             py_0          15 KB  pyviz\n",
      "    pyviz_comms-2.1.0          |             py_0          27 KB  pyviz\n",
      "    ------------------------------------------------------------\n",
      "                                           Total:        17.9 MB\n",
      "\n",
      "The following NEW packages will be INSTALLED:\n",
      "\n",
      "  colorcet           pyviz/noarch::colorcet-2.0.6-py_0\n",
      "  holoviews          pyviz/noarch::holoviews-1.14.5-py_0\n",
      "  hvplot             pyviz/noarch::hvplot-0.7.3-py_0\n",
      "  markdown           pkgs/main/osx-64::markdown-3.3.4-py37hecd8cb5_0\n",
      "  panel              pyviz/noarch::panel-0.12.1-py_0\n",
      "  param              pyviz/noarch::param-1.11.1-py_0\n",
      "  pyct               pyviz/noarch::pyct-0.4.8-py_0\n",
      "  pyct-core          pyviz/noarch::pyct-core-0.4.8-py_0\n",
      "  pyviz_comms        pyviz/noarch::pyviz_comms-2.1.0-py_0\n",
      "\n",
      "\n",
      "\n",
      "Downloading and Extracting Packages\n",
      "markdown-3.3.4       | 127 KB    | ##################################### | 100% \n",
      "holoviews-1.14.5     | 3.4 MB    | ##################################### | 100% \n",
      "pyviz_comms-2.1.0    | 27 KB     | ##################################### | 100% \n",
      "panel-0.12.1         | 9.8 MB    | ##################################### | 100% \n",
      "pyct-0.4.8           | 3 KB      | ##################################### | 100% \n",
      "colorcet-2.0.6       | 1.5 MB    | ##################################### | 100% \n",
      "hvplot-0.7.3         | 2.9 MB    | ##################################### | 100% \n",
      "param-1.11.1         | 86 KB     | ##################################### | 100% \n",
      "pyct-core-0.4.8      | 15 KB     | ##################################### | 100% \n",
      "Preparing transaction: done\n",
      "Verifying transaction: done\n",
      "Executing transaction: done\n",
      "\n",
      "Note: you may need to restart the kernel to use updated packages.\n"
     ]
    }
   ],
   "source": [
    "conda install -c pyviz hvplot"
   ]
  },
  {
   "cell_type": "code",
   "execution_count": null,
   "id": "bbd57fd5",
   "metadata": {},
   "outputs": [],
   "source": []
  }
 ],
 "metadata": {
  "kernelspec": {
   "display_name": "mlenv",
   "language": "python",
   "name": "mlenv"
  },
  "language_info": {
   "codemirror_mode": {
    "name": "ipython",
    "version": 3
   },
   "file_extension": ".py",
   "mimetype": "text/x-python",
   "name": "python",
   "nbconvert_exporter": "python",
   "pygments_lexer": "ipython3",
   "version": "3.7.10"
  }
 },
 "nbformat": 4,
 "nbformat_minor": 5
}
